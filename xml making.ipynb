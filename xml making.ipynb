{
 "cells": [
  {
   "cell_type": "code",
   "execution_count": 65,
   "id": "4e85b25a-3fc5-4dd7-a8c9-772d535e4860",
   "metadata": {
    "tags": []
   },
   "outputs": [],
   "source": [
    "import xml.etree.ElementTree as ET\n",
    "def body_of_the_arm(theta, d, a, alpha):\n",
    "    \"\"\"\n",
    "    theta, d , a, alpha are lists containing th dh model of the arm\n",
    "    \"\"\"\n",
    "    root = ET.Element('mujoco')\n",
    "\n",
    "    gravity = ET.SubElement(root, 'option', gravity='0 0 -10')\n",
    "\n",
    "    default = ET.SubElement(root, 'default')\n",
    "\n",
    "    default1 = ET.SubElement(default, 'geom', rgba='.8 .6 .4 1')\n",
    "\n",
    "    asset = ET.SubElement(root, 'asset')\n",
    "\n",
    "    asset1 = ET.SubElement(asset, 'texture' , type='skybox' ,builtin='gradient', rgb1='1 1 1', rgb2='.6 .8 1', width='400', height='400')\n",
    "\n",
    "    worldbody = ET.SubElement(root, 'worldbody')\n",
    "\n",
    "    light = ET.SubElement(worldbody, 'light', pos='0 1 1', dir='0 -1 -1', diffuse='1 1 1')\n",
    "\n",
    "    body = ET.SubElement(worldbody, 'body', name='body0', pos='0 0 0')\n",
    "\n",
    "    i=0\n",
    "    joint=[]\n",
    "    geom=[]\n",
    "    pos=['0', '0', '0']\n",
    "    for i in range(len(theta)):\n",
    "        if theta[i] == 'theta':\n",
    "            joint = ET.SubElement(body, 'joint', name='joint'+str(i), type='hinge', axis='0 0 1')\n",
    "            to = [str(a[i]), '0', str(d[i])]\n",
    "            lista = pos + to\n",
    "            pos = to\n",
    "            fromtoo = \" \"\n",
    "            fromtoo.join(map(str,lista))\n",
    "            print(fromtoo)\n",
    "            geom = ET.SubElement(body, 'geom', name='geom'+str(i), type='capsule', size='0.04', fromto=fromtoo)\n",
    "            if i != 0:\n",
    "                parent = ET.SubElement(joint, 'parent', body='joint'+ str(i-1))\n",
    "                parentframe = ET.SubElement(joint, 'parentframe')\n",
    "                axis=['1', '0', '0']\n",
    "                axisangle= \" \"\n",
    "                angle = [str(alpha[i])]\n",
    "                lista = axis + angle\n",
    "                axisangle.join(map(str,lista))\n",
    "                pose = ET.SubElement(parentframe, 'pose', axisangle=axisangle)\n",
    "        if d[i] == 'd':\n",
    "            joint = ET.SubElement(body, 'joint', name='joint'+str(i), type='slide', axis='0 0 1')\n",
    "            to = [str(a[i]), '0', '0']\n",
    "            lista = pos + to\n",
    "            pos = to\n",
    "            fromtoo = \" \"\n",
    "            fromtoo.join(map(str,lista))\n",
    "            geom = ET.SubElement(body, 'geom', name='geom'+str(i), type='capsule', size='0.04', fromto=fromtoo)\n",
    "            if i != 0:\n",
    "                parent = ET.SubElement(joint, 'parent', body='joint'+ str(i-1))\n",
    "                parentframe = ET.SubElement(joint, 'parentframe')\n",
    "                axis=['1', '0', '0']\n",
    "                axisangle= \" \"\n",
    "                angle = [str(alpha[i])]\n",
    "                lista = axis + angle\n",
    "                axisangle.join(map(str,lista))\n",
    "                pose = ET.SubElement(parentframe, 'pose', axisangle=axisangle)\n",
    "        if a[i] == 'a':\n",
    "            joint = ET.SubElement(body, 'joint', name='joint'+str(i), type='slide', axis='1 0 0')\n",
    "            to = ['0', '0', str(d[i])]\n",
    "            lista = pos + to\n",
    "            pos = to\n",
    "            fromtoo = \" \"\n",
    "            fromtoo.join(map(str,lista))\n",
    "            geom = ET.SubElement(body, 'geom', name='geom'+str(i), type='capsule', size='0.04', fromto=fromtoo)\n",
    "            if i != 0:\n",
    "                parent = ET.SubElement(joint, 'parent', body='joint'+ str(i-1))\n",
    "                parentframe = ET.SubElement(joint, 'parentframe')\n",
    "                axis=['0', '0', '1']\n",
    "                axisangle= \" \"\n",
    "                angle = [str(theta[i])]\n",
    "                lista = axis + angle\n",
    "                axisangle.join(map(str,lista))\n",
    "                pose = ET.SubElement(parentframe, 'pose', axisangle=axisangle)\n",
    "        if alpha[i] == 'alpha':\n",
    "            joint = ET.SubElement(body, 'joint', name='joint'+str(i), type='hinge', axis='1 0 0')\n",
    "            to = [str(a[i]), '0', str(d[i])]\n",
    "            lista = pos + to\n",
    "            pos = to\n",
    "            fromtoo = \" \"\n",
    "            fromtoo.join(map(str,lista))\n",
    "            geom = ET.SubElement(body, 'geom', name='geom'+str(i), type='capsule', size='0.04', fromto=fromtoo)\n",
    "            if i != 0:\n",
    "                parent = ET.SubElement(joint, 'parent', body='joint'+ str(i-1))\n",
    "                parentframe = ET.SubElement(joint, 'parentframe')\n",
    "                axis=['0', '0', '1']\n",
    "                axisangle= \" \"\n",
    "                angle = [str(theta[i])]\n",
    "                lista = axis + angle\n",
    "                axisangle.join(map(str,lista))\n",
    "                pose = ET.SubElement(parentframe, 'pose', axisangle=axisangle)\n",
    "        i+=1\n",
    "        poss= \" \"\n",
    "        poss.join(map(str,pos))\n",
    "        if i != len(theta):\n",
    "            body = ET.SubElement(worldbody, 'body', name='body'+str(i), pos=poss)\n",
    "        \n",
    "    tree = ET.ElementTree(root)\n",
    "    tree.write('file1.xml')\n"
   ]
  },
  {
   "cell_type": "code",
   "execution_count": 66,
   "id": "32c265cc-0efa-4007-9b7f-9a4bbb5087ea",
   "metadata": {
    "tags": []
   },
   "outputs": [
    {
     "name": "stdout",
     "output_type": "stream",
     "text": [
      " \n"
     ]
    }
   ],
   "source": [
    "theta=['theta', 0]\n",
    "d=[1, 1]\n",
    "a=[0,'a']\n",
    "alpha=[90, 0]\n",
    "body_of_the_arm(theta, d, a, alpha)"
   ]
  },
  {
   "cell_type": "code",
   "execution_count": 48,
   "id": "62ef8308-afd1-40bf-9460-f16003b17815",
   "metadata": {
    "tags": []
   },
   "outputs": [],
   "source": [
    "pos=['0', '0', '0']\n",
    "a=[0,'a']\n",
    "d=[1, 1]"
   ]
  },
  {
   "cell_type": "code",
   "execution_count": 51,
   "id": "ead362f3-af12-4712-af87-6c45a48068e5",
   "metadata": {
    "tags": []
   },
   "outputs": [
    {
     "data": {
      "text/plain": [
       "'0 0 0 0 0 1'"
      ]
     },
     "execution_count": 51,
     "metadata": {},
     "output_type": "execute_result"
    }
   ],
   "source": [
    "to = [str(a[0]), '0', str(d[0])]\n",
    "lista = pos + to\n",
    "pos = to\n",
    "fromto = \" \"\n",
    "fromto.join(map(str,lista))"
   ]
  },
  {
   "cell_type": "code",
   "execution_count": null,
   "id": "4b30816b-f11b-437c-acc0-6c2596efd7b1",
   "metadata": {},
   "outputs": [],
   "source": []
  }
 ],
 "metadata": {
  "kernelspec": {
   "display_name": "Python 3 (ipykernel)",
   "language": "python",
   "name": "python3"
  },
  "language_info": {
   "codemirror_mode": {
    "name": "ipython",
    "version": 3
   },
   "file_extension": ".py",
   "mimetype": "text/x-python",
   "name": "python",
   "nbconvert_exporter": "python",
   "pygments_lexer": "ipython3",
   "version": "3.11.4"
  }
 },
 "nbformat": 4,
 "nbformat_minor": 5
}
